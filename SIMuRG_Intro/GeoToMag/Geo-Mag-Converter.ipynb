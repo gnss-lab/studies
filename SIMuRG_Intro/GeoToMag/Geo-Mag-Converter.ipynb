{
 "cells": [
  {
   "cell_type": "markdown",
   "id": "a7e10ca5-e7f6-4372-9b2d-bcdb23a54b78",
   "metadata": {},
   "source": [
    "# What is this notebook about?\n",
    "\n",
    "In ionospheric studies it is often usefull work with geomagnetic coordinates since they track geomagnetic field and some structures follow the geomagnetic field.\n",
    "\n",
    "![geo_mag_grid](https://agupubs.onlinelibrary.wiley.com/cms/asset/9c967c57-04dc-4087-9c22-575982058867/jgra16515-fig-0003.png)\n",
    "\n",
    "This notebook will guide you through the conversion of the geographic coordinates to geomagnetic ones. "
   ]
  },
  {
   "cell_type": "markdown",
   "id": "7ec928f6-fa6e-4a87-8a48-222ad8a0aafc",
   "metadata": {},
   "source": [
    "# Requirements\n",
    "\n",
    "The notebook relies on data from `lat_lon_geo_mag_v2010.csv` - make sure it is in the same directory."
   ]
  },
  {
   "cell_type": "code",
   "execution_count": 9,
   "id": "e6cf951d-5ee6-413c-b05c-1ddca41f6453",
   "metadata": {},
   "outputs": [],
   "source": [
    "grid_file = \"lat_lon_geo_mag_v2010.csv\" "
   ]
  },
  {
   "cell_type": "code",
   "execution_count": 16,
   "id": "f482dd4d-285a-416a-ac5c-b7626b3ad7de",
   "metadata": {},
   "outputs": [],
   "source": [
    "import numpy as np\n",
    "from pathlib import Path\n",
    "from numpy.typing import NDArray\n",
    "\n",
    "def read_geomagnetic_grid(file_path: Path) -> NDArray:\n",
    "    \"\"\"\n",
    "    Reads the geomagnetic coordinate grid from a file.\n",
    "\n",
    "    Assumes structure as:\n",
    "\n",
    "    #Lat, Lon, MLat, MLon\n",
    "     -90.0    -180.0   -74.5    18.0\n",
    "     -90.0    -179.0   -74.5    18.0\n",
    "     -90.0    -178.0   -74.5    18.0\n",
    "     -90.0    -177.0   -74.5    18.0\n",
    "    \n",
    "    Returns:\n",
    "        data: numpy array with columns [Lat, Lon, MLat, MLon]\n",
    "    \"\"\"\n",
    "    return np.loadtxt(file_path, comments=\"#\")\n",
    "\n",
    "\n",
    "def bilinear_interpolate(\n",
    "    lat: float, \n",
    "    lon: float, \n",
    "    grid: NDArray, \n",
    "    latstep: float=1.0, \n",
    "    lonstep: float=1.0\n",
    ")-> tuple[float, float]: \n",
    "    \"\"\"\n",
    "    Interpolates the geomagnetic coordinates for a given geographical location.\n",
    "\n",
    "    Args:\n",
    "        lat (float): Latitude in degrees\n",
    "        lon (float): Longitude in degrees\n",
    "        grid (np.ndarray): Numpy array with columns [Lat, Lon, MLat, MLon]\n",
    "        latstep (float): Latitude in degrees\n",
    "        lonstep (float): Longitude in degrees\n",
    "\n",
    "    Returns:\n",
    "        tuple: (interpolated MLat, MLon)\n",
    "    \"\"\"\n",
    "\n",
    "    # Handle poles: return exact value without interpolation\n",
    "    if lat == 90.0 or lat == -90.0:\n",
    "        # Find the closest match (lon may be any value at poles)\n",
    "        pole_rows = grid[grid[:, 0] == lat]\n",
    "        if pole_rows.size == 0:\n",
    "            raise ValueError(f\"No data found for pole at latitude {lat}\")\n",
    "        # Return the first match (all longitudes at the pole are equivalent)\n",
    "        return pole_rows[0][2], pole_rows[0][3]\n",
    "\n",
    "    # -180 and 180 is the same point \n",
    "    lon = ((lon + 180) % 360) - 180\n",
    "\n",
    "    # Round lat/lon down to nearest integer grid\n",
    "    lat0 = np.floor(lat)\n",
    "    lon0 = np.floor(lon)\n",
    "    lat1 = lat0 + 1\n",
    "    lon1 = lon0 + 1\n",
    "\n",
    "    # Get four corner points\n",
    "    mask = (\n",
    "        ((grid[:, 0] == lat0) & (grid[:, 1] == lon0)) |\n",
    "        ((grid[:, 0] == lat0) & (grid[:, 1] == lon1)) |\n",
    "        ((grid[:, 0] == lat1) & (grid[:, 1] == lon0)) |\n",
    "        ((grid[:, 0] == lat1) & (grid[:, 1] == lon1))\n",
    "    )\n",
    "    neighbors = grid[mask]\n",
    "\n",
    "    if neighbors.shape[0] != 4:\n",
    "        raise ValueError(\"Could not find a full 2x2 grid for interpolation.\")\n",
    "\n",
    "    # Sort neighbors by (lat, lon)\n",
    "    neighbors = sorted(neighbors, key=lambda x: (x[0], x[1]))\n",
    "    Q11 = neighbors[0]\n",
    "    Q12 = neighbors[1]\n",
    "    Q21 = neighbors[2]\n",
    "    Q22 = neighbors[3]\n",
    "\n",
    "    # Bilinear interpolation formula\n",
    "    def interpolate(x, y, Q11, Q12, Q21, Q22):\n",
    "        x1, y1 = Q11[0], Q11[1]\n",
    "        x2, y2 = Q22[0], Q22[1]\n",
    "        if x2 == x1 or y2 == y1:\n",
    "            return Q11[2], Q11[3]  # Avoid division by zero\n",
    "        fx = (x - x1) / (x2 - x1)\n",
    "        fy = (y - y1) / (y2 - y1)\n",
    "        \n",
    "        _y = (\n",
    "            Q11[2] * (1 - fx) * (1 - fy) +\n",
    "            Q21[2] * fx * (1 - fy) +\n",
    "            Q12[2] * (1 - fx) * fy +\n",
    "            Q22[2] * fx * fy\n",
    "        )\n",
    "        _x = (\n",
    "            Q11[3] * (1 - fx) * (1 - fy) +\n",
    "            Q21[3] * fx * (1 - fy) +\n",
    "            Q12[3] * (1 - fx) * fy +\n",
    "            Q22[3] * fx * fy\n",
    "        )\n",
    "        return _y, _x\n",
    "\n",
    "    return interpolate(lat, lon, Q11, Q12, Q21, Q22)\n"
   ]
  },
  {
   "cell_type": "code",
   "execution_count": 17,
   "id": "9e05372b-d091-4c27-b7d2-5e6f1a620ef6",
   "metadata": {},
   "outputs": [
    {
     "name": "stdout",
     "output_type": "stream",
     "text": [
      "Interpolated geomagnetic coordinates for (-89.0, -60.0) → MLat: -73.6, MLon: 17.6\n",
      "Geomagnetic coordinates for (-89.0, -60.0) → MLat: -73.6, MLon: 17.6\n"
     ]
    }
   ],
   "source": [
    "file_path = grid_file  # Replace with your file path\n",
    "grid = read_geomagnetic_grid(file_path)\n",
    "# se line \"-89.0     -60.0   -73.6    17.6\" in a file\n",
    "lat, lon = -89.0, -60.0\n",
    "mlat, mlon = bilinear_interpolate(lat, lon, grid)\n",
    "print(f\"Interpolated geomagnetic coordinates for ({lat}, {lon}) → MLat: {mlat}, MLon: {mlon}\")\n",
    "print(f\"Geomagnetic coordinates for (-89.0, -60.0) → MLat: -73.6, MLon: 17.6\")"
   ]
  },
  {
   "cell_type": "markdown",
   "id": "444ecbc3-84ed-4ee1-a030-ecb0c46c6364",
   "metadata": {},
   "source": [
    "# Perform test"
   ]
  },
  {
   "cell_type": "code",
   "execution_count": 18,
   "id": "d0aaaa5a-c699-40a3-98af-96f7ede5dd7e",
   "metadata": {},
   "outputs": [],
   "source": [
    "import numpy as np\n",
    "\n",
    "def test_bilinear_interpolation_against_file(file_path, tolerance=1e-6):\n",
    "    \"\"\"\n",
    "    Tests the bilinear interpolation function against ground truth in the file.\n",
    "\n",
    "    Args:\n",
    "        file_path (str): Path to the file containing [Lat, Lon, MLat, MLon]\n",
    "        tolerance (float): Acceptable difference between interpolated and true values\n",
    "\n",
    "    Raises:\n",
    "        AssertionError: If any interpolated value deviates beyond the tolerance\n",
    "    \"\"\"\n",
    "    data = read_geomagnetic_grid(file_path)\n",
    "\n",
    "    passed = 0\n",
    "    failed = 0\n",
    "\n",
    "    for i in range(data.shape[0]):\n",
    "        lat, lon, true_mlat, true_mlon = data[i]\n",
    "\n",
    "        try:\n",
    "            interp_mlat, interp_mlon = bilinear_interpolate(lat, lon, data)\n",
    "            if (\n",
    "                abs(interp_mlat - true_mlat) > tolerance or\n",
    "                abs(interp_mlon - true_mlon) > tolerance\n",
    "            ):\n",
    "                print(f\"FAILED at index {i}:\")\n",
    "                print(f\"  Input:  lat={lat}, lon={lon}\")\n",
    "                print(f\"  Truth:  MLat={true_mlat}, MLon={true_mlon}\")\n",
    "                print(f\"  Interp: MLat={interp_mlat}, MLon={interp_mlon}\")\n",
    "                failed += 1\n",
    "            else:\n",
    "                passed += 1\n",
    "        except ValueError as e:\n",
    "            print(f\"Interpolation skipped at index {i} and lat={lat}, lon={lon} due to missing neighbors: {e}\")\n",
    "            failed += 1\n",
    "\n",
    "    print(f\"\\nTest Summary: {passed} passed, {failed} failed\")"
   ]
  },
  {
   "cell_type": "code",
   "execution_count": 19,
   "id": "7fa21c5e-e487-4cfb-88b4-3b4c60b0a5b1",
   "metadata": {},
   "outputs": [
    {
     "name": "stdout",
     "output_type": "stream",
     "text": [
      "\n",
      "Test Summary: 65341 passed, 0 failed\n"
     ]
    }
   ],
   "source": [
    "test_bilinear_interpolation_against_file(grid_file)"
   ]
  },
  {
   "cell_type": "code",
   "execution_count": null,
   "id": "c09c64df-c366-486c-a8eb-606f1948e241",
   "metadata": {},
   "outputs": [],
   "source": []
  }
 ],
 "metadata": {
  "kernelspec": {
   "display_name": "Python 3 (ipykernel)",
   "language": "python",
   "name": "python3"
  },
  "language_info": {
   "codemirror_mode": {
    "name": "ipython",
    "version": 3
   },
   "file_extension": ".py",
   "mimetype": "text/x-python",
   "name": "python",
   "nbconvert_exporter": "python",
   "pygments_lexer": "ipython3",
   "version": "3.10.14"
  }
 },
 "nbformat": 4,
 "nbformat_minor": 5
}
