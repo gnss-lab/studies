{
 "cells": [
  {
   "cell_type": "markdown",
   "id": "764ce781-5340-4433-a401-b037b49bcf27",
   "metadata": {},
   "source": [
    "# Space weather report\n",
    "\n",
    "## Global Ionospheric Maps\n",
    "\n",
    "We use this notebook to collect data and produce \"standard\" data processing and visualization to estimate space weather conditions at particular date range. By standard we mean the products that have well understood (at least for us) creteria and points that we can include in text report. The visualization should support our finding and should have all labels that are included in report. "
   ]
  },
  {
   "cell_type": "markdown",
   "id": "df7e8682-b84f-4c49-9b64-e2f480943697",
   "metadata": {},
   "source": [
    "## Data sources\n",
    "\n",
    "We try to use proxy to the sources providing original data since. By doing so we can balance load and have data format that we find more convinient for us and avoid code that serves as parser in current notebook. We provide link for original data sources to to give a credits and to have one more point of control and testing (since our services could also have errors). We provide the links to the data serivices we use and links to original data sources, one is free to use any of them, however **don't forget to cite original data sources in any case**:\n",
    "\n",
    " * [SIMuRG](https://simurg.space/) - GNSS TEC and TEC-based data products. SIMuRG processed data distributed as RINEX files from multiple [sources](https://simurg.space/sources). While TEC is not directly contained in RINEX files, they are used to calculate it. SIMuRG also provide access to Global Ionospheric Maps, which originally provide by several ionospheric centers **PROVIDE LIST**."
   ]
  },
  {
   "cell_type": "markdown",
   "id": "3233f7ba-94c9-404f-8533-6837577fcc0c",
   "metadata": {},
   "source": [
    "## Install required packages\n",
    "\n",
    "### NOTE the notebook is tested with python version 3.10. Make sure that you user proper Pyhton kernel\n",
    "\n",
    "We will use particular libraries that we `import` they are installed with `pip`. Feel free to another one to the cell above if you modify code."
   ]
  },
  {
   "cell_type": "code",
   "execution_count": 69,
   "id": "799167e7-9af0-499e-a7dd-926c9aa2e83b",
   "metadata": {},
   "outputs": [
    {
     "name": "stdout",
     "output_type": "stream",
     "text": [
      "Requirement already satisfied: requests in /home/artem/miniconda3/envs/simurg_papers/lib/python3.10/site-packages (2.31.0)\n",
      "Requirement already satisfied: charset-normalizer<4,>=2 in /home/artem/miniconda3/envs/simurg_papers/lib/python3.10/site-packages (from requests) (2.0.4)\n",
      "Requirement already satisfied: idna<4,>=2.5 in /home/artem/miniconda3/envs/simurg_papers/lib/python3.10/site-packages (from requests) (3.7)\n",
      "Requirement already satisfied: urllib3<3,>=1.21.1 in /home/artem/miniconda3/envs/simurg_papers/lib/python3.10/site-packages (from requests) (2.2.1)\n",
      "Requirement already satisfied: certifi>=2017.4.17 in /home/artem/miniconda3/envs/simurg_papers/lib/python3.10/site-packages (from requests) (2024.2.2)\n",
      "Requirement already satisfied: imageio[ffmpeg] in /home/artem/miniconda3/envs/simurg_papers/lib/python3.10/site-packages (2.34.1)\n",
      "Requirement already satisfied: numpy in /home/artem/miniconda3/envs/simurg_papers/lib/python3.10/site-packages (from imageio[ffmpeg]) (1.26.4)\n",
      "Requirement already satisfied: pillow>=8.3.2 in /home/artem/miniconda3/envs/simurg_papers/lib/python3.10/site-packages (from imageio[ffmpeg]) (10.3.0)\n",
      "Requirement already satisfied: imageio-ffmpeg in /home/artem/miniconda3/envs/simurg_papers/lib/python3.10/site-packages (from imageio[ffmpeg]) (0.4.9)\n",
      "Requirement already satisfied: psutil in /home/artem/miniconda3/envs/simurg_papers/lib/python3.10/site-packages (from imageio[ffmpeg]) (5.9.0)\n",
      "Requirement already satisfied: setuptools in /home/artem/miniconda3/envs/simurg_papers/lib/python3.10/site-packages (from imageio-ffmpeg->imageio[ffmpeg]) (69.5.1)\n",
      "Obtaining ionex from git+https://github.com/gnss-lab/ionex.git#egg=ionex\n",
      "  Updating ./src/ionex clone\n",
      "  Running command git fetch -q --tags\n",
      "  Running command git reset --hard -q 8783a714e0d928a4cd64290be63e25d0725f0d79\n",
      "  Preparing metadata (setup.py) ... \u001b[?25ldone\n",
      "\u001b[?25hInstalling collected packages: ionex\n",
      "  Attempting uninstall: ionex\n",
      "    Found existing installation: ionex 0.2\n",
      "    Uninstalling ionex-0.2:\n",
      "      Successfully uninstalled ionex-0.2\n",
      "  Running setup.py develop for ionex\n",
      "Successfully installed ionex-0.2\n"
     ]
    }
   ],
   "source": [
    "!pip install requests\n",
    "!pip install imageio[ffmpeg]\n",
    "!pip install -e git+https://github.com/gnss-lab/ionex.git#egg=ionex"
   ]
  },
  {
   "cell_type": "markdown",
   "id": "46bca98d-14fc-44b3-be31-0419ab3b4333",
   "metadata": {},
   "source": [
    "## Logger\n",
    "\n",
    "We also define logger to have better structured messages and more control over visibility of message than with just `print`. Change `logger.setLevel(logging.DEBUG)` to `logger.setLevel(logging.INFO)` to reduce number of log messages. "
   ]
  },
  {
   "cell_type": "code",
   "execution_count": 73,
   "id": "58f0e2cb-0da4-4da6-812b-a0c913b7ee76",
   "metadata": {},
   "outputs": [],
   "source": [
    "import logging\n",
    "\n",
    "logger = logging.getLogger(\"SWReport\")\n",
    "logger.handlers.clear()\n",
    "logger.setLevel(logging.DEBUG)\n",
    "formatter = logging.Formatter('%(asctime)s - %(name)s - %(levelname)s - %(message)s')\n",
    "ch = logging.StreamHandler()\n",
    "ch.setFormatter(formatter)\n",
    "logger.addHandler(ch)"
   ]
  },
  {
   "cell_type": "markdown",
   "id": "c02359d3-33ba-41a8-8e10-e3eb7870a33f",
   "metadata": {},
   "source": [
    "## Let's start\n",
    "\n",
    "We try to keep this notebook as clean as possible. While some functions could be implemented directly in a cell, the other ones (if they are huge) could be moved to separate modules that we keep along with notebook. We should define some properties to define what exectly we what to obtain and using which data. Make sure that don't change this constant since it will affect all cells executed further. If you need to change any of them make sure you do it carefully. Finally we define types that we use to annotate arguments of the function and its output. \n",
    "\n",
    "**The constants defined in the cell below will define behaviour of calculation. For example you can define the time interval of interest and reference date using which we calculate deltas**"
   ]
  },
  {
   "cell_type": "code",
   "execution_count": 74,
   "id": "1100e9ec-52fe-4d2e-80a3-2281ecb677df",
   "metadata": {},
   "outputs": [],
   "source": [
    "from datetime import datetime, timezone\n",
    "from pathlib import Path\n",
    "import os\n",
    "import imageio.v2 as imageio\n",
    "from numpy.typing import NDArray\n",
    "\n",
    "# constants to keep settings\n",
    "PREFER_GIM = \"uqrg\"\n",
    "STUDY_INTERVAL_START = datetime(2024, 5, 15, tzinfo=timezone.utc)\n",
    "STUDY_INTERVAL_END = datetime(2024, 5, 20, tzinfo=timezone.utc)\n",
    "REFERENCE_DATE = datetime(2024, 5, 15, tzinfo=timezone.utc)\n",
    "MAP_DTYPE = [('lat', 'float'), ('lon', 'float'), ('vals', 'float')]\n",
    "GIM_LAT_DIMENSION = 71\n",
    "GIM_LON_DIMENSION = 73\n",
    "CBAR_LIMITS_DELTA = (-50, 50)\n",
    "CBAR_LIMITS_MAPS = (0, 200)\n",
    "DPI = 100\n",
    "GIM_PLOTS_PATH = Path(\"./gim_plot\")\n",
    "GIM_IONEX_PATH = Path(\"./gim_ionex\")\n",
    "os.makedirs(GIM_PLOTS_PATH, exist_ok=True)\n",
    "os.makedirs(GIM_IONEX_PATH, exist_ok=True)\n",
    "\n",
    "PLOTTING_PARAMS = {\n",
    "    'font.size': 20,\n",
    "    'figure.dpi': DPI,\n",
    "    'font.family': 'serif',\n",
    "    #'font.family': 'monospace',\n",
    "    'font.style': 'normal',\n",
    "    'font.weight': 'light',\n",
    "    'legend.frameon': True,\n",
    "    'font.variant' : 'small-caps',\n",
    "    'axes.titlesize' : 20,\n",
    "    'axes.labelsize' : 20,\n",
    "    'xtick.labelsize' : 18,                         \n",
    "    'xtick.major.pad': 5,\n",
    "    'ytick.major.pad': 5,   \n",
    "    'xtick.major.width' : 2.5,\n",
    "    'ytick.major.width' : 2.5,\n",
    "    'xtick.minor.width' : 2.5,\n",
    "    'ytick.minor.width' : 2.5,\n",
    "    'ytick.labelsize' : 20,\n",
    "}\n"
   ]
  },
  {
   "cell_type": "markdown",
   "id": "dac638e6-df6f-4e00-8542-6f05f4927791",
   "metadata": {},
   "source": [
    "# Global ionospheric maps \n",
    "\n",
    "Global ionospheric maps are based on GNSS data and provide global coverage with 2.5 x 5 degree resolution by latitude and longitude accordingly. The timestep is diffetent for different data source and could be in range from 2 hours up to 15 minutes. Each file containce data for single day. We use SIMuRG API to query and download IONEX files where GIMs are stored. "
   ]
  },
  {
   "cell_type": "code",
   "execution_count": 78,
   "id": "78dd69e1-31f6-4b22-8481-a4b5c7f898ee",
   "metadata": {},
   "outputs": [
    {
     "name": "stderr",
     "output_type": "stream",
     "text": [
      "2024-06-13 05:08:35,184 - SWReport - DEBUG - For 2024-05-15 GIMs are available from ionospheric centers: ['iri16', 'cod0', 'esa0', 'esa0', 'esa0', 'igs0', 'casg', 'uhrg', 'upcg', 'uqrg', 'cod0', 'igs0', 'cas0', 'emr0', 'jpl0', 'upc0', 'c1pg', 'c2pg', 'carg']\n",
      "2024-06-13 05:08:35,590 - SWReport - DEBUG - Reponse came with details: attachment; filename=\"uqrg1360.24i.Z\"\n",
      "2024-06-13 05:08:35,592 - SWReport - DEBUG - application/octet-stream\n",
      "2024-06-13 05:08:35,607 - SWReport - DEBUG - For 2024-05-16 GIMs are available from ionospheric centers: ['cod0', 'esa0', 'esa0', 'igs0', 'uhrg', 'upcg', 'uqrg', 'casg', 'iri16', 'esa0', 'cod0', 'igs0', 'cas0', 'emr0', 'jpl0', 'upc0', 'c1pg', 'c2pg', 'carg']\n",
      "2024-06-13 05:08:35,932 - SWReport - DEBUG - Reponse came with details: attachment; filename=\"uqrg1370.24i.Z\"\n",
      "2024-06-13 05:08:35,934 - SWReport - DEBUG - application/octet-stream\n",
      "2024-06-13 05:08:35,958 - SWReport - DEBUG - For 2024-05-17 GIMs are available from ionospheric centers: ['cod0', 'esa0', 'esa0', 'igs0', 'uhrg', 'upcg', 'uqrg', 'iri16', 'esa0', 'casg', 'cod0', 'igs0', 'cas0', 'emr0', 'jpl0', 'upc0', 'c1pg', 'c2pg', 'carg']\n",
      "2024-06-13 05:08:36,211 - SWReport - DEBUG - Reponse came with details: attachment; filename=\"uqrg1380.24i.Z\"\n",
      "2024-06-13 05:08:36,213 - SWReport - DEBUG - application/octet-stream\n",
      "2024-06-13 05:08:36,230 - SWReport - DEBUG - For 2024-05-18 GIMs are available from ionospheric centers: ['iri16', 'cod0', 'esa0', 'esa0', 'uhrg', 'upcg', 'uqrg', 'cod0', 'esa0', 'igs0', 'casg', 'igs0', 'cas0', 'emr0', 'jpl0', 'upc0', 'c1pg', 'c2pg', 'carg']\n",
      "2024-06-13 05:08:36,579 - SWReport - DEBUG - Reponse came with details: attachment; filename=\"uqrg1390.24i.Z\"\n",
      "2024-06-13 05:08:36,580 - SWReport - DEBUG - application/octet-stream\n",
      "2024-06-13 05:08:36,596 - SWReport - DEBUG - For 2024-05-19 GIMs are available from ionospheric centers: ['iri16', 'cod0', 'esa0', 'esa0', 'igs0', 'uhrg', 'upcg', 'uqrg', 'esa0', 'casg', 'cod0', 'cas0', 'emr0', 'igs0', 'jpl0', 'upc0', 'c1pg', 'c2pg', 'carg']\n",
      "2024-06-13 05:08:36,834 - SWReport - DEBUG - Reponse came with details: attachment; filename=\"uqrg1400.24i.Z\"\n",
      "2024-06-13 05:08:36,835 - SWReport - DEBUG - application/octet-stream\n",
      "2024-06-13 05:08:36,853 - SWReport - DEBUG - For 2024-05-20 GIMs are available from ionospheric centers: ['cod0', 'esa0', 'esa0', 'igs0', 'uhrg', 'upcg', 'uqrg', 'iri16', 'esa0', 'casg', 'cod0', 'cas0', 'emr0', 'igs0', 'jpl0', 'upc0', 'c1pg', 'c2pg', 'carg']\n",
      "2024-06-13 05:08:37,165 - SWReport - DEBUG - Reponse came with details: attachment; filename=\"uqrg1410.24i.Z\"\n",
      "2024-06-13 05:08:37,166 - SWReport - DEBUG - application/octet-stream\n",
      "2024-06-13 05:08:37,172 - SWReport - INFO - Obtained data for ['2024-05-15', '2024-05-16', '2024-05-17', '2024-05-18', '2024-05-19', '2024-05-20']. See message above for missing data\n"
     ]
    }
   ],
   "source": [
    "from requests import Session\n",
    "from datetime import date, timedelta\n",
    "from io import BytesIO\n",
    "\n",
    "session = Session()\n",
    "current = STUDY_INTERVAL_START\n",
    "ionex_compressed = {}\n",
    "while current <= STUDY_INTERVAL_END:\n",
    "        \n",
    "    response = session.get(\n",
    "        \"https://api.simurg.space/datafiles/gim_list\", \n",
    "        params=((\"d\", current.date()), )\n",
    "    )\n",
    "    \n",
    "    if response.status_code != 200:\n",
    "        raise RuntimeError(\"Failed to get GIM source list {response.status_code} {response.reason}\")\n",
    "    \n",
    "    gims_sources = response.json()\n",
    "    \n",
    "    logger.debug(f\"For {current.date()} GIMs are available from ionospheric centers: {gims_sources}\")\n",
    "    \n",
    "    if PREFER_GIM in gims_sources:\n",
    "        r = session.get(\n",
    "            \"https://api.simurg.space/datafiles/gim\", \n",
    "            params=((\"d\", current.date()), (\"gim_type\", PREFER_GIM))\n",
    "        )\n",
    "        if r.status_code != 200:\n",
    "            raise RuntimeError(f\"Could not query {PREFER_GIM} status code {r.status_code} and reason {r.reason}\")\n",
    "        content_details = r.headers[\"content-disposition\"]\n",
    "        content_type = r.headers.get(\"content-type\")\n",
    "        logger.debug(f\"Reponse came with details: {content_details}\")\n",
    "        logger.debug(content_type)\n",
    "        filename = GIM_IONEX_PATH / content_details.replace(\"attachment; filename=\", \"\").replace('\"', '')\n",
    "        with open(filename, \"wb\") as f:\n",
    "            f.write(BytesIO(r.content).read())\n",
    "        ionex_compressed[current.date()] = filename\n",
    "    else:\n",
    "        logger.warning(f\"Could not find {PREFER_GIM} for {current.date()}\")\n",
    "        ionex_compressed[current.date()] = None\n",
    "    current = current + timedelta(1)\n",
    "dates = [str(d) for d in ionex_compressed]\n",
    "logger.info(f\"Obtained data for {dates}. See message above for missing data\")"
   ]
  },
  {
   "cell_type": "markdown",
   "id": "5103c694-56c2-4d79-8284-f2503eb3c6a0",
   "metadata": {},
   "source": [
    "## Uncompress maps (unarchive)\n",
    "\n",
    "We don't store uncompressed maps on the disk, instead we keep it in memory as `StringIO` objects. One could always save maps on the disk, by saving StringIO object as file content.  "
   ]
  },
  {
   "cell_type": "code",
   "execution_count": 81,
   "id": "58505630-3323-47a9-b5a8-bd0204ad063c",
   "metadata": {},
   "outputs": [
    {
     "name": "stderr",
     "output_type": "stream",
     "text": [
      "2024-06-13 05:09:09,491 - SWReport - INFO - Uncompressed 2024-05-15\n",
      "2024-06-13 05:09:09,527 - SWReport - INFO - Uncompressed 2024-05-16\n",
      "2024-06-13 05:09:09,563 - SWReport - INFO - Uncompressed 2024-05-17\n",
      "2024-06-13 05:09:09,599 - SWReport - INFO - Uncompressed 2024-05-18\n",
      "2024-06-13 05:09:09,635 - SWReport - INFO - Uncompressed 2024-05-19\n",
      "2024-06-13 05:09:09,670 - SWReport - INFO - Uncompressed 2024-05-20\n"
     ]
    }
   ],
   "source": [
    "import subprocess\n",
    "from io import StringIO\n",
    "\n",
    "ionex_content = {}\n",
    "for ionex_date, filename in ionex_compressed.items():\n",
    "    process = subprocess.Popen(('gzip', '-cdk', filename), stdout=subprocess.PIPE)\n",
    "    sio = StringIO(process.stdout.read().decode(errors=\"ignore\"))\n",
    "    ionex_content[ionex_date] = sio\n",
    "    logger.info(f\"Uncompressed {ionex_date}\")"
   ]
  },
  {
   "cell_type": "markdown",
   "id": "d42b1dce-193d-46d4-8055-0bece727345e",
   "metadata": {},
   "source": [
    "## Read maps\n",
    "\n",
    "Above we obtain content of IONEX files stored in StringIO obkects. Each file contains number of maps, which depends on timestep. We use [ionex](https://github.com/gnss-lab/ionex) module to read IONEX files. Some files don't obey ionex standard and there is no proper file end in them. So `\"Unexpected end of the file\" warning` could arise and can be safelly ignored. We need convert file contents to proper object to be able to plot them futher.\n",
    "\n",
    "The function we will obtain maps as `numpy` arrays structures as follows.\n",
    "\n",
    "```\n",
    "array = [\n",
    "    (lat1, lon1, val1)\n",
    "    (lat2, lon2, val2)\n",
    "\n",
    "     ....\n",
    "\n",
    "    (latN, lonN, valN)\n",
    "]\n",
    "```\n",
    "\n",
    "Where N is the number of grid cells, 5173 for 71x73 grid. We keep data as single array to make it easy to use it further. One can make `slice` to obtain data:\n",
    "\n",
    "```\n",
    "lats = array[:, 0]\n",
    "lons = array[:, 1]\n",
    "values = array[:, 2]\n",
    "```\n"
   ]
  },
  {
   "cell_type": "code",
   "execution_count": 82,
   "id": "bd887ee5-f93f-4cd5-a26c-5b88be52901f",
   "metadata": {},
   "outputs": [
    {
     "name": "stderr",
     "output_type": "stream",
     "text": [
      "2024-06-13 05:09:13,930 - SWReport - DEBUG - Processing 2024-05-15\n",
      "/home/artem/science/gnss-lab-studies/Space_Weather_Report/src/ionex/ionex/ionex_file.py:220: UserWarning: Unexpected end of the file <Unknown>.\n",
      "  warnings.warn(\n",
      "2024-06-13 05:09:14,263 - SWReport - DEBUG - Processing 2024-05-16\n",
      "2024-06-13 05:09:14,566 - SWReport - DEBUG - Processing 2024-05-17\n",
      "2024-06-13 05:09:14,877 - SWReport - DEBUG - Processing 2024-05-18\n",
      "2024-06-13 05:09:15,187 - SWReport - DEBUG - Processing 2024-05-19\n",
      "2024-06-13 05:09:15,499 - SWReport - DEBUG - Processing 2024-05-20\n"
     ]
    }
   ],
   "source": [
    "import ionex\n",
    "import numpy as np\n",
    "from io import StringIO, TextIOWrapper\n",
    "\n",
    "gims_data = {}\n",
    "\n",
    "def ionex_to_map2d(file: str | Path | StringIO):\n",
    "    if isinstance(file, StringIO):\n",
    "        file_io= file\n",
    "        file_io.seek(0)\n",
    "    else:\n",
    "        file_io = open(file)\n",
    "    try:\n",
    "        for ionex_map in ionex.reader(file_io):\n",
    "            data = []\n",
    "            lats = ionex_map.grid.latitude\n",
    "            lons = ionex_map.grid.longitude\n",
    "            tec_iter = iter(ionex_map.tec)\n",
    "            lon_grid = np.arange(lons.lon1, lons.lon2 + lons.dlon, lons.dlon)\n",
    "            lat_grid = np.arange(lats.lat1, lats.lat2 + lats.dlat, lats.dlat)\n",
    "            for lat in lat_grid:\n",
    "                for lon in lon_grid:\n",
    "                    data.append((lat, lon, next(tec_iter)))\n",
    "            yield np.array(data, dtype=MAP_DTYPE), ionex_map.epoch.replace(tzinfo=timezone.utc)\n",
    "    except ValueError as e:\n",
    "        logger.warning(f\"Got error '{str(e)}' when reading filename\")\n",
    "\n",
    "for ionex_date, content in ionex_content.items():\n",
    "    if content is None:\n",
    "        continue\n",
    "    logger.debug(f\"Processing {ionex_date}\")\n",
    "    for data, epoch in ionex_to_map2d(content):\n",
    "        gims_data[epoch] = data"
   ]
  },
  {
   "cell_type": "markdown",
   "id": "eb46dc44-282d-4f29-9ae2-cb964975ede6",
   "metadata": {},
   "source": [
    "## Plotting layout\n",
    "\n",
    "We define some features as geographical objects to place as well as position of axis tick and others. Function `prepare_geographical_layout()` uses constants we defined above."
   ]
  },
  {
   "cell_type": "code",
   "execution_count": 83,
   "id": "b667f8d9-abfc-4226-9519-2833f65f94f8",
   "metadata": {},
   "outputs": [],
   "source": [
    "import matplotlib\n",
    "from cartopy.mpl.gridliner import LONGITUDE_FORMATTER, LATITUDE_FORMATTER\n",
    "from typing import Tuple, List\n",
    "from cartopy import feature\n",
    "\n",
    "def prepare_geographical_layout(\n",
    "    ax: matplotlib.pyplot.axes, \n",
    "    lon_limits: Tuple[float],\n",
    "    lat_limits: Tuple[float],\n",
    "    lon_locator: List[float] = [],\n",
    "    lat_locator: List[float] = []\n",
    ") -> None:\n",
    "    \"\"\"Takes matplotlib.pyplot.axes puts landmarks and formatting\n",
    "    \n",
    "    \n",
    "    :param lon_limits: min and max value for longitude grid\n",
    "    :type lon_limits: Tuple[float]\n",
    "\n",
    "    :param lat_limits: min and max value for latitude grid\n",
    "    :type lat_limits: Tuple[float]\n",
    "    \"\"\"\n",
    "    plt.rcParams.update(PLOTTING_PARAMS)\n",
    "    gl = ax.gridlines(linewidth=2, color='gray', alpha=0.5, draw_labels=True, linestyle='--')\n",
    "    gl.top_labels = False\n",
    "    gl.right_labels = False\n",
    "    gl.xformatter = LONGITUDE_FORMATTER\n",
    "    gl.yformatter = LATITUDE_FORMATTER\n",
    "    if lon_locator:\n",
    "        gl.xlocator = mticker.FixedLocator(lon_locator)\n",
    "    ax.set_xlim(*lon_limits)\n",
    "    ax.set_ylim(*lat_limits)\n",
    "    #put some features on the map\n",
    "    ax.add_feature(feature.COASTLINE, linewidth=2.5)\n",
    "    ax.add_feature(feature.BORDERS, linestyle=':', linewidth=2)\n",
    "    ax.add_feature(feature.LAKES, alpha=0.5)\n",
    "    ax.add_feature(feature.RIVERS)"
   ]
  },
  {
   "cell_type": "markdown",
   "id": "d6958c55-14fe-4d40-8add-d460e54572bc",
   "metadata": {},
   "source": [
    "## Plot maps \n",
    "\n",
    "We can plot maps to make sure everything is correct. We use `cartopy` to have coastlines, different projection and all other nice features. Since the GIMs are global we plot with latitude (y axis) and longitude (x axis) limits set to (-87.5, 87.5) and (-180, 180) accordingly. The poles -90 and 90 degrees by latitude are generaly not included in the GIMs since expansion functions diverge at poles and longitude has no meaning at poles."
   ]
  },
  {
   "cell_type": "code",
   "execution_count": 84,
   "id": "d6072956-9901-4edc-b215-3b0548b53276",
   "metadata": {},
   "outputs": [],
   "source": [
    "import matplotlib.pyplot as plt\n",
    "import cartopy.crs as ccrs\n",
    "from pathlib import Path\n",
    "\n",
    "plt.rcParams.update(PLOTTING_PARAMS)\n",
    "def plot_map(\n",
    "    maps: dict[datetime, NDArray], \n",
    "    reference_date: datetime,\n",
    "    savefig_to: Path | None = None,\n",
    "    title: str | None = None,\n",
    "    cbar_lims: tuple | None = None\n",
    "):\n",
    "    data = maps[epoch]\n",
    "    map_array = data[\"vals\"].reshape(GIM_LAT_DIMENSION, GIM_LON_DIMENSION)\n",
    "    plt.figure(figsize=(18, 9), dpi=DPI)\n",
    "    ax = plt.axes(projection=ccrs.PlateCarree())\n",
    "    prepare_geographical_layout(ax, (-180, 180), (-90, 90))\n",
    "    #ax.set_global()\n",
    "    #ax.coastlines()\n",
    "    image_ext = (-180, 180, -87.5, 87.5)\n",
    "    if cbar_lims:\n",
    "        image = ax.imshow(map_array, cmap=\"jet\", extent=image_ext, vmin=cbar_lims[0], vmax=cbar_lims[1])\n",
    "    else:\n",
    "        image = ax.imshow(map_array, cmap=\"jet\", extent=image_ext)\n",
    "    cax = ax.figure.add_axes([ax.get_position().x1+0.01, ax.get_position().y0, 0.02, ax.get_position().height])\n",
    "    cbar = ax.figure.colorbar(image, cax=cax, orientation='vertical')\n",
    "    cbar.ax.set_ylabel(\"TEC, TECU\", rotation=-90, va=\"bottom\")\n",
    "    #plt.tight_layout()\n",
    "    if title is None:\n",
    "        ax.set_title(f\"Data from {PREFER_GIM.upper()} for {epoch} UT\")\n",
    "    else:\n",
    "        ax.set_title(title)\n",
    "    if savefig_to:\n",
    "        plt.savefig(savefig_to) \n",
    "    else:\n",
    "        plt.show()\n",
    "    plt.close()\n",
    "\n",
    "epochs = [epoch for epoch in gims_data]\n",
    "plot_map(gims_data, epochs[96 * 2], title=f\"GIM from {PREFER_GIM.upper()} \\n for {epochs[0]} UT\", savefig_to=\"/tmp/gim.png\")\n"
   ]
  },
  {
   "cell_type": "markdown",
   "id": "90318c49-4f42-4419-b852-3a7319074e8b",
   "metadata": {},
   "source": [
    "# Plotting and saving to files\n",
    "\n",
    "We use function defined above to finally use GIM arrays and save them to the files. We need save to files to further pass it to procedure that will make animation out of them. When cell is executed you should see progeress as filename currently saved to the disk."
   ]
  },
  {
   "cell_type": "code",
   "execution_count": 85,
   "id": "02e26d2f-c58e-4f14-92ff-2890f3d708e0",
   "metadata": {},
   "outputs": [
    {
     "name": "stderr",
     "output_type": "stream",
     "text": [
      "2024-06-13 05:09:23,921 - SWReport - INFO - Saving separate plots to files. See progress:\n"
     ]
    },
    {
     "name": "stdout",
     "output_type": "stream",
     "text": [
      "Saving gim_plot/map_2024-05-21 00:00:00+00:00.png"
     ]
    },
    {
     "name": "stderr",
     "output_type": "stream",
     "text": [
      "2024-06-13 05:11:44,336 - SWReport - INFO - Finished plotting maps\n"
     ]
    }
   ],
   "source": [
    "import sys\n",
    "\n",
    "map_filenames = []\n",
    "logger.info(f\"Saving separate plots to files. See progress:\")\n",
    "for epoch in epochs:\n",
    "    if epoch < REFERENCE_DATE:\n",
    "        continue\n",
    "    map_fname = GIM_PLOTS_PATH / f\"map_{str(epoch)}.png\"\n",
    "    title = f\"GIM from {PREFER_GIM.upper()} for {epoch} UT\"\n",
    "    plot_map(gims_data, epoch, cbar_lims=CBAR_LIMITS_MAPS, savefig_to=map_fname, title=title)\n",
    "    map_filenames.append(map_fname)\n",
    "    sys.stdout.write(f\"\\rSaving {map_fname}\")    \n",
    "    sys.stdout.flush()\n",
    "logger.info(\"Finished plotting maps\")"
   ]
  },
  {
   "cell_type": "code",
   "execution_count": 86,
   "id": "b07ee4e7-9a49-40b5-ad3f-e62aeb7841e0",
   "metadata": {},
   "outputs": [
    {
     "name": "stderr",
     "output_type": "stream",
     "text": [
      "2024-06-13 05:13:48,369 - SWReport - INFO - Make animation out of gim_plot/map_2024-05-15 00:00:00+00:00.png gim_plot/map_2024-05-21 00:00:00+00:00.png\n"
     ]
    },
    {
     "name": "stdout",
     "output_type": "stream",
     "text": [
      "Animate gim_plot/map_2024-05-21 00:00:00+00:00.png"
     ]
    }
   ],
   "source": [
    "logger.info(f\"Make animation out of {map_filenames[0]} {map_filenames[-1]}\")\n",
    "with imageio.get_writer(GIM_PLOTS_PATH / f\"maps_{PREFER_GIM}.gif\", mode=\"I\", loop=5) as writer:\n",
    "    for filename in map_filenames:\n",
    "        image = imageio.imread(filename)\n",
    "        writer.append_data(image)\n",
    "        sys.stdout.write(f\"\\rAnimate {filename}\")    \n",
    "        sys.stdout.flush()"
   ]
  },
  {
   "cell_type": "markdown",
   "id": "ec0c0907-5049-48f4-82c6-f9397e6b9379",
   "metadata": {},
   "source": [
    "## Display animation\n",
    "\n",
    "Now animation is ready. You can view it in proper player or display it right here using `IPython.display`."
   ]
  },
  {
   "cell_type": "code",
   "execution_count": 87,
   "id": "df8be407-e38a-4bdb-8b66-d4224c760e92",
   "metadata": {},
   "outputs": [
    {
     "data": {
      "text/html": [
       "<img src=\"gim_plot/maps_uqrg.gif\" autoplay loop>"
      ],
      "text/plain": [
       "<IPython.core.display.HTML object>"
      ]
     },
     "metadata": {},
     "output_type": "display_data"
    }
   ],
   "source": [
    "from IPython.display import display, HTML\n",
    "gif_path = GIM_PLOTS_PATH / f\"maps_{PREFER_GIM}.gif\"\n",
    "html_code = f'<img src=\"{gif_path}\" autoplay loop>'\n",
    "display(HTML(html_code))"
   ]
  },
  {
   "cell_type": "markdown",
   "id": "3246dbe4-0a04-4612-bfea-f5eafd1a5d44",
   "metadata": {},
   "source": [
    "# Delta maps\n",
    "\n",
    "For illustrative purpose we may want to find delta maps so we can see storm events"
   ]
  },
  {
   "cell_type": "code",
   "execution_count": 88,
   "id": "e57e09a0-21e8-4b4a-84aa-7e24d152e61a",
   "metadata": {},
   "outputs": [],
   "source": [
    "def get_delta_gims(\n",
    "    maps: dict[datetime, NDArray], \n",
    "    reference_date: date,\n",
    "    start_epoch: datetime | None = None\n",
    ")-> dict[datetime, NDArray]:\n",
    "    \"\"\" Converts maps into delta maps using map for particular time from reference date\"\"\"\n",
    "    delta_maps = {}\n",
    "    for epoch, data in maps.items():\n",
    "        if start_epoch and start_epoch > epoch:\n",
    "            continue\n",
    "        reference_epoch = datetime.combine(reference_date, epoch.time()).replace(tzinfo=timezone.utc)\n",
    "        if not reference_epoch in maps:\n",
    "            raise ValueError(f\"Could not find reference for {epoch} map from epoch {reference_epoch}\")\n",
    "        delta_maps[epoch] = np.recarray.copy(maps[epoch])\n",
    "        delta_maps[epoch][\"vals\"] = maps[epoch][\"vals\"] - maps[reference_epoch][\"vals\"]\n",
    "    return delta_maps"
   ]
  },
  {
   "cell_type": "code",
   "execution_count": 89,
   "id": "82456046-f089-4b88-a973-caf6a1761cb5",
   "metadata": {},
   "outputs": [
    {
     "name": "stderr",
     "output_type": "stream",
     "text": [
      "2024-06-13 05:14:35,172 - SWReport - INFO - Start plotting and saving delta maps\n"
     ]
    },
    {
     "name": "stdout",
     "output_type": "stream",
     "text": [
      "Save gim_plot/delta_2024-05-21 00:00:00+00:00_refdate_2024-05-15.png"
     ]
    }
   ],
   "source": [
    "delta_maps = get_delta_gims(gims_data, REFERENCE_DATE, start_epoch=STUDY_INTERVAL_START)\n",
    "epochs = [epoch for epoch in delta_maps]\n",
    "\n",
    "filenames = []\n",
    "logger.info(\"Start plotting and saving delta maps\")\n",
    "for epoch in epochs:\n",
    "    fname = GIM_PLOTS_PATH / f\"delta_{str(epoch)}_refdate_{str(REFERENCE_DATE.date())}.png\"\n",
    "    title = f\"GIM ({PREFER_GIM.upper()}) delta for {epoch} UT reference date {REFERENCE_DATE.date()}\"\n",
    "    plot_map(delta_maps, epoch, cbar_lims=CBAR_LIMITS_DELTA, savefig_to=fname, title=title)\n",
    "    filenames.append(fname)\n",
    "    sys.stdout.write(f\"\\rSave {fname}\")    \n",
    "    sys.stdout.flush()\n",
    "    "
   ]
  },
  {
   "cell_type": "code",
   "execution_count": 90,
   "id": "36b48fcd-a5ed-46be-bff8-2e149b50e45b",
   "metadata": {},
   "outputs": [
    {
     "name": "stderr",
     "output_type": "stream",
     "text": [
      "2024-06-13 05:16:53,437 - SWReport - INFO - Make animation out of gim_plot/delta_2024-05-15 00:00:00+00:00_refdate_2024-05-15.png gim_plot/delta_2024-05-21 00:00:00+00:00_refdate_2024-05-15.png\n"
     ]
    },
    {
     "name": "stdout",
     "output_type": "stream",
     "text": [
      "Animate gim_plot/delta_2024-05-21 00:00:00+00:00_refdate_2024-05-15.png"
     ]
    }
   ],
   "source": [
    "logger.info(f\"Make animation out of {filenames[0]} {filenames[-1]}\")\n",
    "with imageio.get_writer(GIM_PLOTS_PATH / f\"maps_{PREFER_GIM}.gif\", mode=\"I\", loop=5) as writer:\n",
    "    for filename in filenames:\n",
    "        image = imageio.imread(filename)\n",
    "        writer.append_data(image)\n",
    "        sys.stdout.write(f\"\\rAnimate {filename}\")    \n",
    "        sys.stdout.flush()"
   ]
  },
  {
   "cell_type": "code",
   "execution_count": 91,
   "id": "40693873-897b-4990-85f4-dbe7d56bec22",
   "metadata": {},
   "outputs": [
    {
     "data": {
      "text/html": [
       "<img src=\"gim_plot/maps_uqrg.gif\" autoplay loop>"
      ],
      "text/plain": [
       "<IPython.core.display.HTML object>"
      ]
     },
     "metadata": {},
     "output_type": "display_data"
    }
   ],
   "source": [
    "from IPython.display import display, HTML\n",
    "gif_path = GIM_PLOTS_PATH / f\"maps_{PREFER_GIM}.gif\"\n",
    "html_code = f'<img src=\"{gif_path}\" autoplay loop>'\n",
    "display(HTML(html_code))"
   ]
  },
  {
   "cell_type": "code",
   "execution_count": null,
   "id": "8323aaff-c4c1-4026-a618-54481022fa14",
   "metadata": {},
   "outputs": [],
   "source": []
  }
 ],
 "metadata": {
  "kernelspec": {
   "display_name": "Python 3 (ipykernel)",
   "language": "python",
   "name": "python3"
  },
  "language_info": {
   "codemirror_mode": {
    "name": "ipython",
    "version": 3
   },
   "file_extension": ".py",
   "mimetype": "text/x-python",
   "name": "python",
   "nbconvert_exporter": "python",
   "pygments_lexer": "ipython3",
   "version": "3.10.14"
  }
 },
 "nbformat": 4,
 "nbformat_minor": 5
}
